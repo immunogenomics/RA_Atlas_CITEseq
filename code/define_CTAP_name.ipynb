{
 "cells": [
  {
   "cell_type": "code",
   "execution_count": 1,
   "id": "macro-rehabilitation",
   "metadata": {},
   "outputs": [],
   "source": [
    "library(dplyr)\n",
    "library(pheatmap)\n",
    "library(RColorBrewer)\n",
    "library(scico)"
   ]
  },
  {
   "cell_type": "code",
   "execution_count": 2,
   "id": "acquired-boating",
   "metadata": {},
   "outputs": [],
   "source": [
    "ref <- readRDS(\"/data/srlab1/public/srcollab/AMP_Phase_2/singlecell_result/all_cells_reference_2021-07-13.rds\")\n",
    "meta_data <- ref$meta_data\n",
    "\n",
    "classification = readRDS(\"/data/srlab1/public/srcollab/AMP_Phase_2/singlecell_result/d_pca_category_2021-04-14.rds\")\n",
    "classification[1:4,]"
   ]
  },
  {
   "cell_type": "markdown",
   "id": "vanilla-opening",
   "metadata": {},
   "source": [
    "## Comparing the proportion in each CTAP to the overall proportion:"
   ]
  },
  {
   "cell_type": "code",
   "execution_count": 73,
   "id": "pursuant-convergence",
   "metadata": {},
   "outputs": [
    {
     "name": "stderr",
     "output_type": "stream",
     "text": [
      "`summarise()` has grouped output by 'new_class'. You can override using the `.groups` argument.\n",
      "\n"
     ]
    },
    {
     "data": {
      "text/html": [
       "<table class=\"dataframe\">\n",
       "<caption>A data.frame: 6 × 7</caption>\n",
       "<thead>\n",
       "\t<tr><th></th><th scope=col>new_class</th><th scope=col>E</th><th scope=col>F</th><th scope=col>M</th><th scope=col>T</th><th scope=col>B</th><th scope=col>NK</th></tr>\n",
       "\t<tr><th></th><th scope=col>&lt;chr&gt;</th><th scope=col>&lt;dbl&gt;</th><th scope=col>&lt;dbl&gt;</th><th scope=col>&lt;dbl&gt;</th><th scope=col>&lt;dbl&gt;</th><th scope=col>&lt;dbl&gt;</th><th scope=col>&lt;dbl&gt;</th></tr>\n",
       "</thead>\n",
       "<tbody>\n",
       "\t<tr><th scope=row>1</th><td>E + F + M</td><td>0.28655010</td><td>0.28402216</td><td>0.29453093</td><td>0.1064730</td><td>0.01178470</td><td>0.01663914</td></tr>\n",
       "\t<tr><th scope=row>2</th><td>F        </td><td>0.09608310</td><td>0.51310385</td><td>0.16817210</td><td>0.1427129</td><td>0.06328024</td><td>0.01664784</td></tr>\n",
       "\t<tr><th scope=row>3</th><td>M        </td><td>0.08060143</td><td>0.10531983</td><td>0.43649747</td><td>0.2596978</td><td>0.08693775</td><td>0.03094573</td></tr>\n",
       "\t<tr><th scope=row>4</th><td>T + B    </td><td>0.04490215</td><td>0.06395714</td><td>0.11455849</td><td>0.5032137</td><td>0.22638531</td><td>0.04698317</td></tr>\n",
       "\t<tr><th scope=row>5</th><td>T + F    </td><td>0.05292217</td><td>0.30080228</td><td>0.06790567</td><td>0.4426448</td><td>0.10135416</td><td>0.03437095</td></tr>\n",
       "\t<tr><th scope=row>6</th><td>T + M    </td><td>0.07764052</td><td>0.05737026</td><td>0.27270196</td><td>0.4815352</td><td>0.08011761</td><td>0.03063442</td></tr>\n",
       "</tbody>\n",
       "</table>\n"
      ],
      "text/latex": [
       "A data.frame: 6 × 7\n",
       "\\begin{tabular}{r|lllllll}\n",
       "  & new\\_class & E & F & M & T & B & NK\\\\\n",
       "  & <chr> & <dbl> & <dbl> & <dbl> & <dbl> & <dbl> & <dbl>\\\\\n",
       "\\hline\n",
       "\t1 & E + F + M & 0.28655010 & 0.28402216 & 0.29453093 & 0.1064730 & 0.01178470 & 0.01663914\\\\\n",
       "\t2 & F         & 0.09608310 & 0.51310385 & 0.16817210 & 0.1427129 & 0.06328024 & 0.01664784\\\\\n",
       "\t3 & M         & 0.08060143 & 0.10531983 & 0.43649747 & 0.2596978 & 0.08693775 & 0.03094573\\\\\n",
       "\t4 & T + B     & 0.04490215 & 0.06395714 & 0.11455849 & 0.5032137 & 0.22638531 & 0.04698317\\\\\n",
       "\t5 & T + F     & 0.05292217 & 0.30080228 & 0.06790567 & 0.4426448 & 0.10135416 & 0.03437095\\\\\n",
       "\t6 & T + M     & 0.07764052 & 0.05737026 & 0.27270196 & 0.4815352 & 0.08011761 & 0.03063442\\\\\n",
       "\\end{tabular}\n"
      ],
      "text/markdown": [
       "\n",
       "A data.frame: 6 × 7\n",
       "\n",
       "| <!--/--> | new_class &lt;chr&gt; | E &lt;dbl&gt; | F &lt;dbl&gt; | M &lt;dbl&gt; | T &lt;dbl&gt; | B &lt;dbl&gt; | NK &lt;dbl&gt; |\n",
       "|---|---|---|---|---|---|---|---|\n",
       "| 1 | E + F + M | 0.28655010 | 0.28402216 | 0.29453093 | 0.1064730 | 0.01178470 | 0.01663914 |\n",
       "| 2 | F         | 0.09608310 | 0.51310385 | 0.16817210 | 0.1427129 | 0.06328024 | 0.01664784 |\n",
       "| 3 | M         | 0.08060143 | 0.10531983 | 0.43649747 | 0.2596978 | 0.08693775 | 0.03094573 |\n",
       "| 4 | T + B     | 0.04490215 | 0.06395714 | 0.11455849 | 0.5032137 | 0.22638531 | 0.04698317 |\n",
       "| 5 | T + F     | 0.05292217 | 0.30080228 | 0.06790567 | 0.4426448 | 0.10135416 | 0.03437095 |\n",
       "| 6 | T + M     | 0.07764052 | 0.05737026 | 0.27270196 | 0.4815352 | 0.08011761 | 0.03063442 |\n",
       "\n"
      ],
      "text/plain": [
       "  new_class E          F          M          T         B          NK        \n",
       "1 E + F + M 0.28655010 0.28402216 0.29453093 0.1064730 0.01178470 0.01663914\n",
       "2 F         0.09608310 0.51310385 0.16817210 0.1427129 0.06328024 0.01664784\n",
       "3 M         0.08060143 0.10531983 0.43649747 0.2596978 0.08693775 0.03094573\n",
       "4 T + B     0.04490215 0.06395714 0.11455849 0.5032137 0.22638531 0.04698317\n",
       "5 T + F     0.05292217 0.30080228 0.06790567 0.4426448 0.10135416 0.03437095\n",
       "6 T + M     0.07764052 0.05737026 0.27270196 0.4815352 0.08011761 0.03063442"
      ]
     },
     "metadata": {},
     "output_type": "display_data"
    }
   ],
   "source": [
    "# meta_data <- readRDS(\"/data/srlab1/public/srcollab/AMP_Phase_2/singlecell_result/fine_cluster_all_celltypes_82samples_2021-04-23.rds\")\n",
    "# classification = readRDS(\"/data/srlab1/public/srcollab/AMP_Phase_2/singlecell_result/d_pca_category_2021-04-14.rds\")\n",
    "\n",
    "ctap_prop <- meta_data %>% \n",
    "             group_by(new_class, sample) %>% \n",
    "             summarise(E = sum(cell_type == \"Endothelial cell\")/n(), \n",
    "                       F = sum(cell_type == \"Stromal cell\")/n(),\n",
    "                       M = sum(cell_type == \"Myeloid cell\")/n(), \n",
    "                       T = sum(cell_type == \"T cell\")/n(), \n",
    "                       B = sum(cell_type == \"B cell/plasma cell\")/n(),\n",
    "                       NK = sum(cell_type == \"NK\")/n()\n",
    "                      ) %>% \n",
    "             ungroup %>% group_by(new_class) %>% summarise(E = mean(E), F = mean(F), M = mean(M), T = mean(T), B = mean(B), NK = mean(NK))\n",
    "\n",
    "ctap_prop <- as.data.frame(ctap_prop)\n",
    "# ctap_prop[is.num] <- lapply(ctap_prop[is.num], round, 2)\n",
    "ctap_prop <- ctap_prop[complete.cases(ctap_prop), ]\n",
    "ctap_prop"
   ]
  },
  {
   "cell_type": "code",
   "execution_count": 74,
   "id": "wicked-installation",
   "metadata": {},
   "outputs": [
    {
     "data": {
      "text/html": [
       "<style>\n",
       ".dl-inline {width: auto; margin:0; padding: 0}\n",
       ".dl-inline>dt, .dl-inline>dd {float: none; width: auto; display: inline-block}\n",
       ".dl-inline>dt::after {content: \":\\0020\"; padding-right: .5ex}\n",
       ".dl-inline>dt:not(:first-of-type) {padding-left: .5ex}\n",
       "</style><dl class=dl-inline><dt>E</dt><dd>'0.11'</dd><dt>F</dt><dd>'0.22'</dd><dt>M</dt><dd>'0.25'</dd><dt>T</dt><dd>'0.30'</dd><dt>B</dt><dd>'0.10'</dd><dt>NK</dt><dd>'0.03'</dd></dl>\n"
      ],
      "text/latex": [
       "\\begin{description*}\n",
       "\\item[E] '0.11'\n",
       "\\item[F] '0.22'\n",
       "\\item[M] '0.25'\n",
       "\\item[T] '0.30'\n",
       "\\item[B] '0.10'\n",
       "\\item[NK] '0.03'\n",
       "\\end{description*}\n"
      ],
      "text/markdown": [
       "E\n",
       ":   '0.11'F\n",
       ":   '0.22'M\n",
       ":   '0.25'T\n",
       ":   '0.30'B\n",
       ":   '0.10'NK\n",
       ":   '0.03'\n",
       "\n"
      ],
      "text/plain": [
       "     E      F      M      T      B     NK \n",
       "\"0.11\" \"0.22\" \"0.25\" \"0.30\" \"0.10\" \"0.03\" "
      ]
     },
     "metadata": {},
     "output_type": "display_data"
    },
    {
     "data": {
      "text/html": [
       "<style>\n",
       ".list-inline {list-style: none; margin:0; padding: 0}\n",
       ".list-inline>li {display: inline-block}\n",
       ".list-inline>li:not(:last-child)::after {content: \"\\00b7\"; padding: 0 .5ex}\n",
       "</style>\n",
       "<ol class=list-inline><li>0.11</li><li>0.22</li><li>0.25</li><li>0.3</li><li>0.1</li><li>0.03</li></ol>\n"
      ],
      "text/latex": [
       "\\begin{enumerate*}\n",
       "\\item 0.11\n",
       "\\item 0.22\n",
       "\\item 0.25\n",
       "\\item 0.3\n",
       "\\item 0.1\n",
       "\\item 0.03\n",
       "\\end{enumerate*}\n"
      ],
      "text/markdown": [
       "1. 0.11\n",
       "2. 0.22\n",
       "3. 0.25\n",
       "4. 0.3\n",
       "5. 0.1\n",
       "6. 0.03\n",
       "\n",
       "\n"
      ],
      "text/plain": [
       "[1] 0.11 0.22 0.25 0.30 0.10 0.03"
      ]
     },
     "metadata": {},
     "output_type": "display_data"
    }
   ],
   "source": [
    "# Overall proportions\n",
    "overall_prop <-  colMeans(meta_data %>% \n",
    "                 left_join(classification, by = c(\"sample\"=\"donor\")) %>% \n",
    "                 group_by(sample) %>% \n",
    "                 summarise(E = sum(cell_type == \"Endothelial cell\")/n(), \n",
    "                           F = sum(cell_type == \"Stromal cell\")/n(), \n",
    "                           M = sum(cell_type == \"Myeloid cell\")/n(), \n",
    "                           T = sum(cell_type == \"T cell\")/n(), \n",
    "                           B = sum(cell_type == \"B cell/plasma cell\")/n(),\n",
    "                           NK = sum(cell_type == \"NK\")/n()\n",
    "                          ) %>% \n",
    "                 ungroup %>% select(-sample)) \n",
    "\n",
    "format(round(overall_prop, 2), nsmall = 2)\n",
    "as.numeric(format(round(overall_prop, 2), nsmall = 2))"
   ]
  },
  {
   "cell_type": "code",
   "execution_count": 75,
   "id": "impressed-ukraine",
   "metadata": {},
   "outputs": [
    {
     "data": {
      "text/html": [
       "<table class=\"dataframe\">\n",
       "<caption>A data.frame: 7 × 7</caption>\n",
       "<thead>\n",
       "\t<tr><th scope=col>new_class</th><th scope=col>E</th><th scope=col>F</th><th scope=col>M</th><th scope=col>T</th><th scope=col>B</th><th scope=col>NK</th></tr>\n",
       "\t<tr><th scope=col>&lt;chr&gt;</th><th scope=col>&lt;chr&gt;</th><th scope=col>&lt;chr&gt;</th><th scope=col>&lt;chr&gt;</th><th scope=col>&lt;chr&gt;</th><th scope=col>&lt;chr&gt;</th><th scope=col>&lt;chr&gt;</th></tr>\n",
       "</thead>\n",
       "<tbody>\n",
       "\t<tr><td>E + F + M</td><td>0.286550099751144 </td><td>0.284022162133234 </td><td>0.294530929407037</td><td>0.106472968083759</td><td>0.0117847046372315</td><td>0.0166391359875948</td></tr>\n",
       "\t<tr><td>F        </td><td>0.096083103959898 </td><td>0.513103851986859 </td><td>0.168172097321436</td><td>0.142712863355372</td><td>0.0632802389044225</td><td>0.0166478444720128</td></tr>\n",
       "\t<tr><td>M        </td><td>0.0806014298573129</td><td>0.105319831751703 </td><td>0.436497471168738</td><td>0.25969779398711 </td><td>0.086937747296212 </td><td>0.0309457259389238</td></tr>\n",
       "\t<tr><td>T + B    </td><td>0.0449021506574796</td><td>0.063957144152903 </td><td>0.114558489840475</td><td>0.503213733680451</td><td>0.226385311100954 </td><td>0.0469831705677366</td></tr>\n",
       "\t<tr><td>T + F    </td><td>0.0529221680909415</td><td>0.30080228467748  </td><td>0.0679056656335  </td><td>0.442644769514122</td><td>0.101354162883065 </td><td>0.0343709492008907</td></tr>\n",
       "\t<tr><td>T + M    </td><td>0.0776405238044658</td><td>0.0573702630360574</td><td>0.272701956098485</td><td>0.48153522671678 </td><td>0.0801176095055104</td><td>0.0306344208387011</td></tr>\n",
       "\t<tr><td>Overall  </td><td>0.11              </td><td>0.22              </td><td>0.25             </td><td>0.3              </td><td>0.1               </td><td>0.03              </td></tr>\n",
       "</tbody>\n",
       "</table>\n"
      ],
      "text/latex": [
       "A data.frame: 7 × 7\n",
       "\\begin{tabular}{lllllll}\n",
       " new\\_class & E & F & M & T & B & NK\\\\\n",
       " <chr> & <chr> & <chr> & <chr> & <chr> & <chr> & <chr>\\\\\n",
       "\\hline\n",
       "\t E + F + M & 0.286550099751144  & 0.284022162133234  & 0.294530929407037 & 0.106472968083759 & 0.0117847046372315 & 0.0166391359875948\\\\\n",
       "\t F         & 0.096083103959898  & 0.513103851986859  & 0.168172097321436 & 0.142712863355372 & 0.0632802389044225 & 0.0166478444720128\\\\\n",
       "\t M         & 0.0806014298573129 & 0.105319831751703  & 0.436497471168738 & 0.25969779398711  & 0.086937747296212  & 0.0309457259389238\\\\\n",
       "\t T + B     & 0.0449021506574796 & 0.063957144152903  & 0.114558489840475 & 0.503213733680451 & 0.226385311100954  & 0.0469831705677366\\\\\n",
       "\t T + F     & 0.0529221680909415 & 0.30080228467748   & 0.0679056656335   & 0.442644769514122 & 0.101354162883065  & 0.0343709492008907\\\\\n",
       "\t T + M     & 0.0776405238044658 & 0.0573702630360574 & 0.272701956098485 & 0.48153522671678  & 0.0801176095055104 & 0.0306344208387011\\\\\n",
       "\t Overall   & 0.11               & 0.22               & 0.25              & 0.3               & 0.1                & 0.03              \\\\\n",
       "\\end{tabular}\n"
      ],
      "text/markdown": [
       "\n",
       "A data.frame: 7 × 7\n",
       "\n",
       "| new_class &lt;chr&gt; | E &lt;chr&gt; | F &lt;chr&gt; | M &lt;chr&gt; | T &lt;chr&gt; | B &lt;chr&gt; | NK &lt;chr&gt; |\n",
       "|---|---|---|---|---|---|---|\n",
       "| E + F + M | 0.286550099751144  | 0.284022162133234  | 0.294530929407037 | 0.106472968083759 | 0.0117847046372315 | 0.0166391359875948 |\n",
       "| F         | 0.096083103959898  | 0.513103851986859  | 0.168172097321436 | 0.142712863355372 | 0.0632802389044225 | 0.0166478444720128 |\n",
       "| M         | 0.0806014298573129 | 0.105319831751703  | 0.436497471168738 | 0.25969779398711  | 0.086937747296212  | 0.0309457259389238 |\n",
       "| T + B     | 0.0449021506574796 | 0.063957144152903  | 0.114558489840475 | 0.503213733680451 | 0.226385311100954  | 0.0469831705677366 |\n",
       "| T + F     | 0.0529221680909415 | 0.30080228467748   | 0.0679056656335   | 0.442644769514122 | 0.101354162883065  | 0.0343709492008907 |\n",
       "| T + M     | 0.0776405238044658 | 0.0573702630360574 | 0.272701956098485 | 0.48153522671678  | 0.0801176095055104 | 0.0306344208387011 |\n",
       "| Overall   | 0.11               | 0.22               | 0.25              | 0.3               | 0.1                | 0.03               |\n",
       "\n"
      ],
      "text/plain": [
       "  new_class E                  F                  M                \n",
       "1 E + F + M 0.286550099751144  0.284022162133234  0.294530929407037\n",
       "2 F         0.096083103959898  0.513103851986859  0.168172097321436\n",
       "3 M         0.0806014298573129 0.105319831751703  0.436497471168738\n",
       "4 T + B     0.0449021506574796 0.063957144152903  0.114558489840475\n",
       "5 T + F     0.0529221680909415 0.30080228467748   0.0679056656335  \n",
       "6 T + M     0.0776405238044658 0.0573702630360574 0.272701956098485\n",
       "7 Overall   0.11               0.22               0.25             \n",
       "  T                 B                  NK                \n",
       "1 0.106472968083759 0.0117847046372315 0.0166391359875948\n",
       "2 0.142712863355372 0.0632802389044225 0.0166478444720128\n",
       "3 0.25969779398711  0.086937747296212  0.0309457259389238\n",
       "4 0.503213733680451 0.226385311100954  0.0469831705677366\n",
       "5 0.442644769514122 0.101354162883065  0.0343709492008907\n",
       "6 0.48153522671678  0.0801176095055104 0.0306344208387011\n",
       "7 0.3               0.1                0.03              "
      ]
     },
     "metadata": {},
     "output_type": "display_data"
    }
   ],
   "source": [
    "ctap_prop <- rbind(ctap_prop, c(\"Overall\", as.numeric(format(round(overall_prop, 2), nsmall = 2))))\n",
    "ctap_prop"
   ]
  },
  {
   "cell_type": "code",
   "execution_count": 71,
   "id": "inclusive-envelope",
   "metadata": {},
   "outputs": [],
   "source": [
    "# write.table(ctap_prop, file = paste(\"Supplementary_table2\", \".txt\", sep = \"\"),\n",
    "#             row.names=T,col.names=T, quote = F, sep = \"\\t\")"
   ]
  },
  {
   "cell_type": "code",
   "execution_count": null,
   "id": "established-nancy",
   "metadata": {},
   "outputs": [],
   "source": []
  },
  {
   "cell_type": "code",
   "execution_count": 76,
   "id": "finite-savannah",
   "metadata": {},
   "outputs": [],
   "source": [
    "ctap_prop_heatmap <- ctap_prop\n",
    "rown_names <- ctap_prop$new_class\n",
    "ctap_prop_heatmap <- ctap_prop[,-1]"
   ]
  },
  {
   "cell_type": "code",
   "execution_count": 77,
   "id": "recreational-sample",
   "metadata": {},
   "outputs": [
    {
     "data": {
      "text/html": [
       "<table class=\"dataframe\">\n",
       "<caption>A data.frame: 7 × 6</caption>\n",
       "<thead>\n",
       "\t<tr><th></th><th scope=col>E</th><th scope=col>F</th><th scope=col>M</th><th scope=col>T</th><th scope=col>B</th><th scope=col>NK</th></tr>\n",
       "\t<tr><th></th><th scope=col>&lt;dbl&gt;</th><th scope=col>&lt;dbl&gt;</th><th scope=col>&lt;dbl&gt;</th><th scope=col>&lt;dbl&gt;</th><th scope=col>&lt;dbl&gt;</th><th scope=col>&lt;dbl&gt;</th></tr>\n",
       "</thead>\n",
       "<tbody>\n",
       "\t<tr><th scope=row>E + F + M</th><td>0.28655010</td><td>0.28402216</td><td>0.29453093</td><td>0.1064730</td><td>0.01178470</td><td>0.01663914</td></tr>\n",
       "\t<tr><th scope=row>F</th><td>0.09608310</td><td>0.51310385</td><td>0.16817210</td><td>0.1427129</td><td>0.06328024</td><td>0.01664784</td></tr>\n",
       "\t<tr><th scope=row>M</th><td>0.08060143</td><td>0.10531983</td><td>0.43649747</td><td>0.2596978</td><td>0.08693775</td><td>0.03094573</td></tr>\n",
       "\t<tr><th scope=row>T + B</th><td>0.04490215</td><td>0.06395714</td><td>0.11455849</td><td>0.5032137</td><td>0.22638531</td><td>0.04698317</td></tr>\n",
       "\t<tr><th scope=row>T + F</th><td>0.05292217</td><td>0.30080228</td><td>0.06790567</td><td>0.4426448</td><td>0.10135416</td><td>0.03437095</td></tr>\n",
       "\t<tr><th scope=row>T + M</th><td>0.07764052</td><td>0.05737026</td><td>0.27270196</td><td>0.4815352</td><td>0.08011761</td><td>0.03063442</td></tr>\n",
       "\t<tr><th scope=row>Overall</th><td>0.11000000</td><td>0.22000000</td><td>0.25000000</td><td>0.3000000</td><td>0.10000000</td><td>0.03000000</td></tr>\n",
       "</tbody>\n",
       "</table>\n"
      ],
      "text/latex": [
       "A data.frame: 7 × 6\n",
       "\\begin{tabular}{r|llllll}\n",
       "  & E & F & M & T & B & NK\\\\\n",
       "  & <dbl> & <dbl> & <dbl> & <dbl> & <dbl> & <dbl>\\\\\n",
       "\\hline\n",
       "\tE + F + M & 0.28655010 & 0.28402216 & 0.29453093 & 0.1064730 & 0.01178470 & 0.01663914\\\\\n",
       "\tF & 0.09608310 & 0.51310385 & 0.16817210 & 0.1427129 & 0.06328024 & 0.01664784\\\\\n",
       "\tM & 0.08060143 & 0.10531983 & 0.43649747 & 0.2596978 & 0.08693775 & 0.03094573\\\\\n",
       "\tT + B & 0.04490215 & 0.06395714 & 0.11455849 & 0.5032137 & 0.22638531 & 0.04698317\\\\\n",
       "\tT + F & 0.05292217 & 0.30080228 & 0.06790567 & 0.4426448 & 0.10135416 & 0.03437095\\\\\n",
       "\tT + M & 0.07764052 & 0.05737026 & 0.27270196 & 0.4815352 & 0.08011761 & 0.03063442\\\\\n",
       "\tOverall & 0.11000000 & 0.22000000 & 0.25000000 & 0.3000000 & 0.10000000 & 0.03000000\\\\\n",
       "\\end{tabular}\n"
      ],
      "text/markdown": [
       "\n",
       "A data.frame: 7 × 6\n",
       "\n",
       "| <!--/--> | E &lt;dbl&gt; | F &lt;dbl&gt; | M &lt;dbl&gt; | T &lt;dbl&gt; | B &lt;dbl&gt; | NK &lt;dbl&gt; |\n",
       "|---|---|---|---|---|---|---|\n",
       "| E + F + M | 0.28655010 | 0.28402216 | 0.29453093 | 0.1064730 | 0.01178470 | 0.01663914 |\n",
       "| F | 0.09608310 | 0.51310385 | 0.16817210 | 0.1427129 | 0.06328024 | 0.01664784 |\n",
       "| M | 0.08060143 | 0.10531983 | 0.43649747 | 0.2596978 | 0.08693775 | 0.03094573 |\n",
       "| T + B | 0.04490215 | 0.06395714 | 0.11455849 | 0.5032137 | 0.22638531 | 0.04698317 |\n",
       "| T + F | 0.05292217 | 0.30080228 | 0.06790567 | 0.4426448 | 0.10135416 | 0.03437095 |\n",
       "| T + M | 0.07764052 | 0.05737026 | 0.27270196 | 0.4815352 | 0.08011761 | 0.03063442 |\n",
       "| Overall | 0.11000000 | 0.22000000 | 0.25000000 | 0.3000000 | 0.10000000 | 0.03000000 |\n",
       "\n"
      ],
      "text/plain": [
       "          E          F          M          T         B          NK        \n",
       "E + F + M 0.28655010 0.28402216 0.29453093 0.1064730 0.01178470 0.01663914\n",
       "F         0.09608310 0.51310385 0.16817210 0.1427129 0.06328024 0.01664784\n",
       "M         0.08060143 0.10531983 0.43649747 0.2596978 0.08693775 0.03094573\n",
       "T + B     0.04490215 0.06395714 0.11455849 0.5032137 0.22638531 0.04698317\n",
       "T + F     0.05292217 0.30080228 0.06790567 0.4426448 0.10135416 0.03437095\n",
       "T + M     0.07764052 0.05737026 0.27270196 0.4815352 0.08011761 0.03063442\n",
       "Overall   0.11000000 0.22000000 0.25000000 0.3000000 0.10000000 0.03000000"
      ]
     },
     "metadata": {},
     "output_type": "display_data"
    }
   ],
   "source": [
    "ctap_prop_heatmap <- transform(ctap_prop_heatmap, E = as.numeric(E))\n",
    "ctap_prop_heatmap <- transform(ctap_prop_heatmap, F = as.numeric(F))\n",
    "ctap_prop_heatmap <- transform(ctap_prop_heatmap, M = as.numeric(M))\n",
    "ctap_prop_heatmap <- transform(ctap_prop_heatmap, T = as.numeric(T))\n",
    "ctap_prop_heatmap <- transform(ctap_prop_heatmap, B = as.numeric(B))\n",
    "ctap_prop_heatmap <- transform(ctap_prop_heatmap, NK = as.numeric(NK))\n",
    "rownames(ctap_prop_heatmap) <- rown_names\n",
    "ctap_prop_heatmap"
   ]
  },
  {
   "cell_type": "code",
   "execution_count": 91,
   "id": "false-breach",
   "metadata": {},
   "outputs": [
    {
     "data": {
      "image/png": "[encoded data removed]",
      "text/plain": [
       "plot without title"
      ]
     },
     "metadata": {
      "image/png": {
       "height": 192,
       "width": 300
      }
     },
     "output_type": "display_data"
    }
   ],
   "source": [
    "ctap_prop_heatmap <- ctap_prop_heatmap[c(\"E + F + M\", \"F\", \"T + F\", \"T + B\", \"T + M\", \"M\", \"Overall\"),]\n",
    "\n",
    "options(repr.plot.height = 3.2, repr.plot.width = 5)\n",
    "filename <- \"ctap_prop_heatmap.pdf\"\n",
    "hm.parameters <- list(\n",
    "        mat = t((ctap_prop_heatmap)), \n",
    "#           breaks =  seq(-max(ctap_prop_heatmap), max(ctap_prop_heatmap), 0.1), # mat_breaks,\n",
    "          color  =  scico(100, palette = 'lajolla'),  # lajolla \n",
    "#           color = colorRampPalette(rev(brewer.pal(n=9,name=\"RdGy\")))(2*max(ctap_prop_heatmap)/0.1),  \n",
    "          border_color = \"white\",\n",
    "          show_rownames = TRUE,\n",
    "          show_colnames = TRUE,\n",
    "          cluster_rows = FALSE,\n",
    "          cluster_cols = FALSE,\n",
    "          cutree_rows = 4,\n",
    "          cutree_cols = 3,\n",
    "          width = 5, height = 3.2,\n",
    "          fontsize = 20\n",
    "        )\n",
    " \n",
    "  # To draw the heat map on screen \n",
    "  do.call(\"pheatmap\", hm.parameters)\n",
    " \n",
    "  # To draw to file \n",
    "do.call(\"pheatmap\", c(hm.parameters, filename=filename))"
   ]
  },
  {
   "cell_type": "code",
   "execution_count": null,
   "id": "supreme-wagon",
   "metadata": {},
   "outputs": [],
   "source": []
  }
 ],
 "metadata": {
  "kernelspec": {
   "display_name": "R",
   "language": "R",
   "name": "ir"
  },
  "language_info": {
   "codemirror_mode": "r",
   "file_extension": ".r",
   "mimetype": "text/x-r-source",
   "name": "R",
   "pygments_lexer": "r",
   "version": "4.1.2"
  }
 },
 "nbformat": 4,
 "nbformat_minor": 5
}
